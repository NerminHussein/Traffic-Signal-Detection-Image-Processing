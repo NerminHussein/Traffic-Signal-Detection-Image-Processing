{
  "nbformat": 4,
  "nbformat_minor": 0,
  "metadata": {
    "colab": {
      "name": "Untitled3.ipynb",
      "provenance": [],
      "authorship_tag": "ABX9TyMAxbZvU1XhUdO+oLh9fCKH",
      "include_colab_link": true
    },
    "kernelspec": {
      "name": "python3",
      "display_name": "Python 3"
    },
    "language_info": {
      "name": "python"
    }
  },
  "cells": [
    {
      "cell_type": "markdown",
      "metadata": {
        "id": "view-in-github",
        "colab_type": "text"
      },
      "source": [
        "<a href=\"https://colab.research.google.com/github/NerminHussein/Traffic-Signal-Detection-Image-Processing/blob/master/trafficSignTest.ipynb\" target=\"_parent\"><img src=\"https://colab.research.google.com/assets/colab-badge.svg\" alt=\"Open In Colab\"/></a>"
      ]
    },
    {
      "cell_type": "code",
      "execution_count": 22,
      "metadata": {
        "id": "iRFus8xufJw_"
      },
      "outputs": [],
      "source": [
        "import numpy as np\n",
        "import pandas as pd\n",
        "import os\n",
        "import cv2\n",
        "import matplotlib.pyplot as plt\n",
        "import tensorflow as tf\n",
        "from tensorflow import keras\n",
        "from PIL import Image\n",
        "from sklearn.model_selection import train_test_split\n",
        "from tensorflow.keras.preprocessing.image import ImageDataGenerator\n",
        "from tensorflow.keras.optimizers import Adam\n",
        "from sklearn.metrics import accuracy_score\n",
        "np.random.seed(42)"
      ]
    },
    {
      "cell_type": "code",
      "source": [
        "import keras,os\n",
        "import keras as model\n",
        "from keras.layers import Dense, Conv2D, MaxPool2D , Flatten\n",
        "from keras.preprocessing.image import ImageDataGenerator\n",
        "import numpy as np"
      ],
      "metadata": {
        "id": "h2xj3N0BK8oZ"
      },
      "execution_count": 23,
      "outputs": []
    },
    {
      "cell_type": "code",
      "source": [
        "import cv2\n"
      ],
      "metadata": {
        "id": "gGzKrliMMP0n"
      },
      "execution_count": 24,
      "outputs": []
    },
    {
      "cell_type": "code",
      "source": [
        "\n",
        "import cv2\n",
        "import os\n",
        "import numpy as np\n",
        "import random\n",
        "import pickle\n",
        "from PIL import Image\n",
        "\n",
        "def videoToFrames(fileName):\n",
        "    vidcap = cv2.VideoCapture(fileName)\n",
        "    success,image = vidcap.read()\n",
        "    count = 0\n",
        "    images=[]\n",
        "    while success:\n",
        "        if count %1 ==0:\n",
        "            images.append(image)\n",
        "        success,image = vidcap.read()\n",
        "        count += 1\n",
        "    return images;\n",
        "\n",
        "\n",
        "def load_images_from_video_folder(folder,lable):\n",
        "    dataset=[]    \n",
        "    for filename in os.listdir(folder):\n",
        "        images=videoToFrames(os.path.join(folder,filename)) \n",
        "        im=[]\n",
        "        c=1\n",
        "        for img in images:\n",
        "            n_img=cv2.resize(img,(150,150))\n",
        "          \n",
        "            if img is not None :\n",
        "                im.append(n_img)\n",
        "          \n",
        "            if c % 1 == 0:\n",
        "                image=[]\n",
        "\n",
        "               \n",
        "                image.append(im)\n",
        "                image.append(lable)\n",
        "                im=[]\n",
        "                dataset.append(image)\n",
        "                c=0\n",
        "          \n",
        "            c=c+1\n",
        "        \n",
        "        if len(im)!=0:\n",
        "            print(len(im),filename)\n",
        "    return dataset\n",
        "\n",
        "def saveModel(Value, FileName):\n",
        "    file=open(FileName,\"wb\")\n",
        "    pickle.dump(Value,file)\n",
        "    file.close()\n",
        "\n",
        "\n",
        "\n",
        "#take care about using load_images_from_**video**_folder\n",
        "def preprocessDataset(sign,nonsign,outXFile,outYFile):\n",
        "\n",
        "   \n",
        "    dataset=load_images_from_video_folder(sign ,1)\n",
        "    dataset+=load_images_from_video_folder(nonsign,0)\n",
        "\n",
        "    print(len(dataset))\n",
        "\n",
        "    random.shuffle(dataset)\n",
        "    \n",
        "    x=[]\n",
        "    y=[]\n",
        "    \n",
        "    while len(dataset)!=0 :\n",
        "        img,label = dataset.pop()\n",
        "        x.append(img)\n",
        "        y.append(label)\n",
        "\n",
        "    y= np.array(y).reshape(-1,1)\n",
        "    x= np.array(x).reshape(-1,1,150,150,3)\n",
        "    \n",
        "    saveModel(x,outXFile)\n",
        "    saveModel(y,outYFile)\n",
        "\n",
        "    return x[1],y[1]\n",
        "\n",
        "\n",
        "\n",
        "\n",
        "imgs ,labels=preprocessDataset('/content/nonsign/',\n",
        "                  '/content/sign/',\n",
        "                  'all_X_avg_5.pkl',\n",
        "                  'all_Y_avg_5.pkl')\n",
        "\n",
        "plt.imshow(imgs[0][0])\n",
        "plt.show()\n",
        "\n",
        "data =[]\n",
        "\n",
        "#for img in imgs:\n",
        "   # try:\n",
        "        #image = cv2.imread(img)\n",
        "        #data.append(np.array(img))\n",
        "    #except:\n",
        "       #print(\"Error in \" + img)\n",
        "\n",
        "X_test = np.array(imgs)\n",
        "model2=keras.models.load_model('modelGTSRB-1.h5')\n",
        "pred=model2.predict(X_test) \n",
        "classes_x=np.argmax(pred,axis=1)\n",
        "#classes_x=np.argmax(predict_x,axis=1)\n",
        "\n",
        "#Accuracy with the test data\n",
        "print('Test Data accuracy: ',accuracy_score(labels, classes_x)*100)"
      ],
      "metadata": {
        "colab": {
          "base_uri": "https://localhost:8080/",
          "height": 302
        },
        "id": "lJdqa9xzTT9w",
        "outputId": "3fa53db1-4b53-4ea0-953a-3379745bb302"
      },
      "execution_count": 54,
      "outputs": [
        {
          "output_type": "stream",
          "name": "stdout",
          "text": [
            "386\n"
          ]
        },
        {
          "output_type": "display_data",
          "data": {
            "text/plain": [
              "<Figure size 432x288 with 1 Axes>"
            ],
            "image/png": "[encoded data removed]"
          },
          "metadata": {
            "needs_background": "light"
          }
        },
        {
          "output_type": "stream",
          "name": "stdout",
          "text": [
            "Test Data accuracy:  0.0\n"
          ]
        }
      ]
    },
    {
      "cell_type": "markdown",
      "source": [
        ""
      ],
      "metadata": {
        "id": "dvSZBt9KTTJE"
      }
    },
    {
      "cell_type": "code",
      "source": [
        "#per image IMG_HEIGHT = 30 ,IMG_WIDTH = 30 ,channels = 3\n",
        "cap = cv2.VideoCapture('REC1.mp4')\n"
      ],
      "metadata": {
        "id": "PsykSgekNQ2D"
      },
      "execution_count": 26,
      "outputs": []
    },
    {
      "cell_type": "code",
      "source": [
        ""
      ],
      "metadata": {
        "id": "HbEo2pgbNcHu"
      },
      "execution_count": null,
      "outputs": []
    },
    {
      "cell_type": "code",
      "source": [
        "model2=keras.models.load_model('modelGTSRB-1.h5')"
      ],
      "metadata": {
        "id": "X6BU20XJLZL4"
      },
      "execution_count": 32,
      "outputs": []
    },
    {
      "cell_type": "code",
      "source": [
        "\n",
        "\n",
        "imgs = x\n",
        "labels = y\n",
        "\n",
        "data =[]\n",
        "\n",
        "for img in imgs:\n",
        "    try:\n",
        "        image = cv2.imread(img)\n",
        "        image_fromarray = Image.fromarray(image, 'RGB')\n",
        "        resize_image = image_fromarray.resize((30, 30))\n",
        "        data.append(np.array(resize_image))\n",
        "    except:\n",
        "        print(\"Error in \" + img)\n",
        "X_test = np.array(data)\n",
        "\n",
        "\n",
        "#pred = model.predict_classes(X_test)\n",
        "pred=model2.predict(X_test) \n",
        "classes_x=np.argmax(pred,axis=1)\n",
        "#classes_x=np.argmax(predict_x,axis=1)\n",
        "\n",
        "#Accuracy with the test data\n",
        "print('Test Data accuracy: ',accuracy_score(labels, classes_x)*100)"
      ],
      "metadata": {
        "colab": {
          "base_uri": "https://localhost:8080/",
          "height": 927
        },
        "id": "1_qcRh3CLRTV",
        "outputId": "db0639fc-5731-40bc-b71f-232debbc936d"
      },
      "execution_count": 31,
      "outputs": [
        {
          "output_type": "stream",
          "name": "stdout",
          "text": [
            "Error in /\n",
            "Error in c\n",
            "Error in o\n",
            "Error in n\n",
            "Error in t\n",
            "Error in e\n",
            "Error in n\n",
            "Error in t\n",
            "Error in /\n",
            "Error in a\n",
            "Error in l\n",
            "Error in l\n",
            "Error in _\n",
            "Error in X\n",
            "Error in _\n",
            "Error in a\n",
            "Error in v\n",
            "Error in g\n",
            "Error in _\n",
            "Error in 5\n",
            "Error in .\n",
            "Error in p\n",
            "Error in k\n",
            "Error in l\n"
          ]
        },
        {
          "output_type": "error",
          "ename": "ValueError",
          "evalue": "ignored",
          "traceback": [
            "\u001b[0;31m---------------------------------------------------------------------------\u001b[0m",
            "\u001b[0;31mValueError\u001b[0m                                Traceback (most recent call last)",
            "\u001b[0;32m<ipython-input-31-5fa692e5c643>\u001b[0m in \u001b[0;36m<module>\u001b[0;34m()\u001b[0m\n\u001b[1;32m     18\u001b[0m \u001b[0;34m\u001b[0m\u001b[0m\n\u001b[1;32m     19\u001b[0m \u001b[0;31m#pred = model.predict_classes(X_test)\u001b[0m\u001b[0;34m\u001b[0m\u001b[0;34m\u001b[0m\u001b[0;34m\u001b[0m\u001b[0m\n\u001b[0;32m---> 20\u001b[0;31m \u001b[0mpred\u001b[0m\u001b[0;34m=\u001b[0m\u001b[0mmodel2\u001b[0m\u001b[0;34m.\u001b[0m\u001b[0mpredict\u001b[0m\u001b[0;34m(\u001b[0m\u001b[0mX_test\u001b[0m\u001b[0;34m)\u001b[0m\u001b[0;34m\u001b[0m\u001b[0;34m\u001b[0m\u001b[0m\n\u001b[0m\u001b[1;32m     21\u001b[0m \u001b[0mclasses_x\u001b[0m\u001b[0;34m=\u001b[0m\u001b[0mnp\u001b[0m\u001b[0;34m.\u001b[0m\u001b[0margmax\u001b[0m\u001b[0;34m(\u001b[0m\u001b[0mpred\u001b[0m\u001b[0;34m,\u001b[0m\u001b[0maxis\u001b[0m\u001b[0;34m=\u001b[0m\u001b[0;36m1\u001b[0m\u001b[0;34m)\u001b[0m\u001b[0;34m\u001b[0m\u001b[0;34m\u001b[0m\u001b[0m\n\u001b[1;32m     22\u001b[0m \u001b[0;31m#classes_x=np.argmax(predict_x,axis=1)\u001b[0m\u001b[0;34m\u001b[0m\u001b[0;34m\u001b[0m\u001b[0;34m\u001b[0m\u001b[0m\n",
            "\u001b[0;32m/usr/local/lib/python3.7/dist-packages/keras/utils/traceback_utils.py\u001b[0m in \u001b[0;36merror_handler\u001b[0;34m(*args, **kwargs)\u001b[0m\n\u001b[1;32m     65\u001b[0m     \u001b[0;32mexcept\u001b[0m \u001b[0mException\u001b[0m \u001b[0;32mas\u001b[0m \u001b[0me\u001b[0m\u001b[0;34m:\u001b[0m  \u001b[0;31m# pylint: disable=broad-except\u001b[0m\u001b[0;34m\u001b[0m\u001b[0;34m\u001b[0m\u001b[0m\n\u001b[1;32m     66\u001b[0m       \u001b[0mfiltered_tb\u001b[0m \u001b[0;34m=\u001b[0m \u001b[0m_process_traceback_frames\u001b[0m\u001b[0;34m(\u001b[0m\u001b[0me\u001b[0m\u001b[0;34m.\u001b[0m\u001b[0m__traceback__\u001b[0m\u001b[0;34m)\u001b[0m\u001b[0;34m\u001b[0m\u001b[0;34m\u001b[0m\u001b[0m\n\u001b[0;32m---> 67\u001b[0;31m       \u001b[0;32mraise\u001b[0m \u001b[0me\u001b[0m\u001b[0;34m.\u001b[0m\u001b[0mwith_traceback\u001b[0m\u001b[0;34m(\u001b[0m\u001b[0mfiltered_tb\u001b[0m\u001b[0;34m)\u001b[0m \u001b[0;32mfrom\u001b[0m \u001b[0;32mNone\u001b[0m\u001b[0;34m\u001b[0m\u001b[0;34m\u001b[0m\u001b[0m\n\u001b[0m\u001b[1;32m     68\u001b[0m     \u001b[0;32mfinally\u001b[0m\u001b[0;34m:\u001b[0m\u001b[0;34m\u001b[0m\u001b[0;34m\u001b[0m\u001b[0m\n\u001b[1;32m     69\u001b[0m       \u001b[0;32mdel\u001b[0m \u001b[0mfiltered_tb\u001b[0m\u001b[0;34m\u001b[0m\u001b[0;34m\u001b[0m\u001b[0m\n",
            "\u001b[0;32m/usr/local/lib/python3.7/dist-packages/keras/engine/training.py\u001b[0m in \u001b[0;36mpredict\u001b[0;34m(self, x, batch_size, verbose, steps, callbacks, max_queue_size, workers, use_multiprocessing)\u001b[0m\n\u001b[1;32m   1995\u001b[0m             \u001b[0mcallbacks\u001b[0m\u001b[0;34m.\u001b[0m\u001b[0mon_predict_batch_end\u001b[0m\u001b[0;34m(\u001b[0m\u001b[0mend_step\u001b[0m\u001b[0;34m,\u001b[0m \u001b[0;34m{\u001b[0m\u001b[0;34m'outputs'\u001b[0m\u001b[0;34m:\u001b[0m \u001b[0mbatch_outputs\u001b[0m\u001b[0;34m}\u001b[0m\u001b[0;34m)\u001b[0m\u001b[0;34m\u001b[0m\u001b[0;34m\u001b[0m\u001b[0m\n\u001b[1;32m   1996\u001b[0m       \u001b[0;32mif\u001b[0m \u001b[0mbatch_outputs\u001b[0m \u001b[0;32mis\u001b[0m \u001b[0;32mNone\u001b[0m\u001b[0;34m:\u001b[0m\u001b[0;34m\u001b[0m\u001b[0;34m\u001b[0m\u001b[0m\n\u001b[0;32m-> 1997\u001b[0;31m         raise ValueError('Unexpected result of `predict_function` '\n\u001b[0m\u001b[1;32m   1998\u001b[0m                          \u001b[0;34m'(Empty batch_outputs). Please use '\u001b[0m\u001b[0;34m\u001b[0m\u001b[0;34m\u001b[0m\u001b[0m\n\u001b[1;32m   1999\u001b[0m                          \u001b[0;34m'`Model.compile(..., run_eagerly=True)`, or '\u001b[0m\u001b[0;34m\u001b[0m\u001b[0;34m\u001b[0m\u001b[0m\n",
            "\u001b[0;31mValueError\u001b[0m: Unexpected result of `predict_function` (Empty batch_outputs). Please use `Model.compile(..., run_eagerly=True)`, or `tf.config.run_functions_eagerly(True)` for more information of where went wrong, or file a issue/bug to `tf.keras`."
          ]
        }
      ]
    },
    {
      "cell_type": "code",
      "source": [
        ""
      ],
      "metadata": {
        "id": "ucfuoqFHcg_d"
      },
      "execution_count": null,
      "outputs": []
    }
  ]
}